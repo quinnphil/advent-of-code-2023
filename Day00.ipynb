{
 "cells": [
  {
   "cell_type": "markdown",
   "id": "106deaa1-8c62-402a-8b5a-2e5f65c5532a",
   "metadata": {},
   "source": [
    "# Advent of Code 2023\n",
    "## Day 0: Template\n",
    "\n",
    "### Puzzle\n",
    "https://adventofcode.com/2023/day/x\n",
    "\n",
    "### Answers\n",
    "\n",
    "### Solutions  \n"
   ]
  },
  {
   "cell_type": "code",
   "execution_count": null,
   "id": "7e872306-9d37-4610-be2f-e3147b122142",
   "metadata": {},
   "outputs": [],
   "source": []
  }
 ],
 "metadata": {
  "kernelspec": {
   "display_name": "Python 3 (ipykernel)",
   "language": "python",
   "name": "python3"
  },
  "language_info": {
   "codemirror_mode": {
    "name": "ipython",
    "version": 3
   },
   "file_extension": ".py",
   "mimetype": "text/x-python",
   "name": "python",
   "nbconvert_exporter": "python",
   "pygments_lexer": "ipython3",
   "version": "3.10.5"
  }
 },
 "nbformat": 4,
 "nbformat_minor": 5
}
