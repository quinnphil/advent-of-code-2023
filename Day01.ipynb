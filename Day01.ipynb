{
 "cells": [
  {
   "cell_type": "markdown",
   "id": "106deaa1-8c62-402a-8b5a-2e5f65c5532a",
   "metadata": {},
   "source": [
    "# Advent of Code 2023\n",
    "## Day 1: Trebuchet?!\n",
    "\n",
    "### Puzzle\n",
    "https://adventofcode.com/2023/day/1\n",
    "\n",
    "### Answers\n",
    "T1: 142  \n",
    "T2: 281\n",
    "\n",
    "P1: 54704  \n",
    "P2: 54706  "
   ]
  },
  {
   "cell_type": "code",
   "execution_count": 1,
   "id": "297f9383-0cf4-43ad-b9b5-bc068b1137ff",
   "metadata": {},
   "outputs": [],
   "source": [
    "import re"
   ]
  },
  {
   "cell_type": "code",
   "execution_count": 2,
   "id": "fb500e6f-221c-450c-ab64-541f0ec5cff2",
   "metadata": {},
   "outputs": [],
   "source": [
    "map_numbers = {\n",
    "    'one': 1,\n",
    "    'two': 2,\n",
    "    'three': 3,\n",
    "    'four': 4,\n",
    "    'five': 5,\n",
    "    'six': 6,\n",
    "    'seven': 7,\n",
    "    'eight': 8,\n",
    "    'nine': 9\n",
    "}"
   ]
  },
  {
   "cell_type": "markdown",
   "id": "d3a2de75-7d89-4b54-9a0e-aa95dc3ff725",
   "metadata": {},
   "source": [
    "### Data"
   ]
  },
  {
   "cell_type": "code",
   "execution_count": 21,
   "id": "a9a58bf6-5caa-439e-bcc0-18c55d071d5b",
   "metadata": {},
   "outputs": [],
   "source": [
    "test_01 = \"\"\"1abc2\n",
    "pqr3stu8vwx\n",
    "a1b2c3d4e5f\n",
    "treb7uchet\"\"\"\n",
    "\n",
    "test_02 = \"\"\"two1nine\n",
    "eightwothree\n",
    "abcone2threexyz\n",
    "xtwone3four\n",
    "4nineeightseven2\n",
    "zoneight234\n",
    "7pqrstsixteen\"\"\""
   ]
  },
  {
   "cell_type": "code",
   "execution_count": 22,
   "id": "999afa2f-809a-438b-8e4a-746dbe659a37",
   "metadata": {},
   "outputs": [],
   "source": [
    "def get_data(path):\n",
    "    with open(path, 'r') as fh:\n",
    "        return fh.read().splitlines()\n",
    "\n",
    "data = get_data('data/day_01.txt')"
   ]
  },
  {
   "cell_type": "markdown",
   "id": "93151b70-10b2-4a5f-87ba-53c987cbbc6f",
   "metadata": {},
   "source": [
    "### Functions"
   ]
  },
  {
   "cell_type": "code",
   "execution_count": 58,
   "id": "a84201d0-f5b8-419c-9be0-83a58e0792e4",
   "metadata": {},
   "outputs": [],
   "source": [
    "def get_numbers(line, search_items):\n",
    "    \n",
    "    result = re.findall(rf'(?=({\"|\".join(str(n) for n in search_items)}))', line)\n",
    "    for i, n in enumerate(result):\n",
    "        # print(f\"{(i, n)}\")\n",
    "        if new_n := map_numbers.get(n, None):\n",
    "            result[i] = new_n\n",
    "        else:\n",
    "            result[i] = int(n)\n",
    "    return result\n",
    "\n"
   ]
  },
  {
   "cell_type": "markdown",
   "id": "610f22d1-6108-4e4b-916c-2d0cbbfcde3a",
   "metadata": {},
   "source": [
    "### Test 1"
   ]
  },
  {
   "cell_type": "code",
   "execution_count": 55,
   "id": "3ae911c2-d34a-4c12-8c86-0f1d9d822c57",
   "metadata": {},
   "outputs": [
    {
     "name": "stdout",
     "output_type": "stream",
     "text": [
      "(0, '1')\n",
      "(1, '2')\n",
      "1abc2 => numbers=[1, 2]\n",
      "(0, '3')\n",
      "(1, '8')\n",
      "pqr3stu8vwx => numbers=[3, 8]\n",
      "(0, '1')\n",
      "(1, '2')\n",
      "(2, '3')\n",
      "(3, '4')\n",
      "(4, '5')\n",
      "a1b2c3d4e5f => numbers=[1, 2, 3, 4, 5]\n",
      "(0, '7')\n",
      "treb7uchet => numbers=[7]\n"
     ]
    },
    {
     "data": {
      "text/plain": [
       "142"
      ]
     },
     "execution_count": 55,
     "metadata": {},
     "output_type": "execute_result"
    }
   ],
   "source": [
    "total = 0\n",
    "\n",
    "for line in test_01.split('\\n'):\n",
    "    numbers = get_numbers(line, list(map_numbers.values())) \n",
    "    total += (int(numbers[0]) * 10) + int(numbers[-1])\n",
    "\n",
    "\n",
    "total"
   ]
  },
  {
   "cell_type": "markdown",
   "id": "a0b3924d-7313-4442-9edc-263746956082",
   "metadata": {},
   "source": [
    "### Part 1"
   ]
  },
  {
   "cell_type": "code",
   "execution_count": 59,
   "id": "6cd8c99c-d61c-47a8-ab68-223aea4ba8fb",
   "metadata": {},
   "outputs": [
    {
     "data": {
      "text/plain": [
       "55447"
      ]
     },
     "execution_count": 59,
     "metadata": {},
     "output_type": "execute_result"
    }
   ],
   "source": [
    "total = 0\n",
    "\n",
    "for line in data:\n",
    "    numbers = get_numbers(line, list(map_numbers.values()))\n",
    "    total += (int(numbers[0]) * 10) + int(numbers[-1])\n",
    "\n",
    "\n",
    "total"
   ]
  },
  {
   "cell_type": "markdown",
   "id": "66d49eab-e8a6-41c9-9f67-c2053ffd7a80",
   "metadata": {},
   "source": [
    "### Test 2"
   ]
  },
  {
   "cell_type": "code",
   "execution_count": 64,
   "id": "ceb71f47-6555-43fe-b49e-304aede49393",
   "metadata": {},
   "outputs": [
    {
     "name": "stdout",
     "output_type": "stream",
     "text": [
      "two1nine => numbers=[2, 1, 9]\n",
      "eightwothree => numbers=[8, 2, 3]\n",
      "abcone2threexyz => numbers=[1, 2, 3]\n",
      "xtwone3four => numbers=[2, 1, 3, 4]\n",
      "4nineeightseven2 => numbers=[4, 9, 8, 7, 2]\n",
      "zoneight234 => numbers=[1, 8, 2, 3, 4]\n",
      "7pqrstsixteen => numbers=[7, 6]\n"
     ]
    },
    {
     "data": {
      "text/plain": [
       "281"
      ]
     },
     "execution_count": 64,
     "metadata": {},
     "output_type": "execute_result"
    }
   ],
   "source": [
    "total = 0\n",
    "\n",
    "for line in test_02.split('\\n'):\n",
    "    numbers = get_numbers(line, list(map_numbers.values()) + list(map_numbers.keys()))\n",
    "    print(f\"{line} => {numbers=}\")\n",
    "    total += (numbers[0] * 10) + numbers[-1]\n",
    "\n",
    "\n",
    "total"
   ]
  },
  {
   "cell_type": "markdown",
   "id": "6837aa92-cd2c-409f-889b-1fbf8342ebfa",
   "metadata": {},
   "source": [
    "### Part 2"
   ]
  },
  {
   "cell_type": "code",
   "execution_count": 67,
   "id": "8cc749ae-2a89-4e19-a963-7775ef5c54c1",
   "metadata": {},
   "outputs": [
    {
     "data": {
      "text/plain": [
       "54706"
      ]
     },
     "execution_count": 67,
     "metadata": {},
     "output_type": "execute_result"
    }
   ],
   "source": [
    "total = 0\n",
    "\n",
    "for line in data:\n",
    "    numbers = get_numbers(line, list(map_numbers.values()) + list(map_numbers.keys()))\n",
    "    total += (numbers[0] * 10) + numbers[-1]\n",
    "\n",
    "\n",
    "total\n",
    "\n",
    "        "
   ]
  }
 ],
 "metadata": {
  "kernelspec": {
   "display_name": "Python 3 (ipykernel)",
   "language": "python",
   "name": "python3"
  },
  "language_info": {
   "codemirror_mode": {
    "name": "ipython",
    "version": 3
   },
   "file_extension": ".py",
   "mimetype": "text/x-python",
   "name": "python",
   "nbconvert_exporter": "python",
   "pygments_lexer": "ipython3",
   "version": "3.10.5"
  }
 },
 "nbformat": 4,
 "nbformat_minor": 5
}
