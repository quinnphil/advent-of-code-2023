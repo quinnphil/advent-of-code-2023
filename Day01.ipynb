{
 "cells": [
  {
   "cell_type": "markdown",
   "id": "106deaa1-8c62-402a-8b5a-2e5f65c5532a",
   "metadata": {},
   "source": [
    "# Advent of Code 2023\n",
    "## Day 1: Trebuchet?!\n",
    "\n",
    "### Puzzle\n",
    "https://adventofcode.com/2023/day/1\n",
    "\n",
    "### Answers\n",
    "P1: 54704  \n",
    "P2: 54706  "
   ]
  },
  {
   "cell_type": "code",
   "execution_count": 1,
   "id": "297f9383-0cf4-43ad-b9b5-bc068b1137ff",
   "metadata": {},
   "outputs": [],
   "source": [
    "import re"
   ]
  },
  {
   "cell_type": "code",
   "execution_count": 2,
   "id": "fb500e6f-221c-450c-ab64-541f0ec5cff2",
   "metadata": {},
   "outputs": [],
   "source": [
    "map_numbers = {\n",
    "    'one': 1,\n",
    "    'two': 2,\n",
    "    'three': 3,\n",
    "    'four': 4,\n",
    "    'five': 5,\n",
    "    'six': 6,\n",
    "    'seven': 7,\n",
    "    'eight': 8,\n",
    "    'nine': 9\n",
    "}"
   ]
  },
  {
   "cell_type": "markdown",
   "id": "d3a2de75-7d89-4b54-9a0e-aa95dc3ff725",
   "metadata": {},
   "source": [
    "### Part 1"
   ]
  },
  {
   "cell_type": "code",
   "execution_count": 9,
   "id": "999afa2f-809a-438b-8e4a-746dbe659a37",
   "metadata": {},
   "outputs": [],
   "source": [
    "def get_data(path='data/day_01_test.txt'):\n",
    "    with open(path, 'r') as fh:\n",
    "        return fh.read().splitlines()\n",
    "\n",
    "data = get_data()"
   ]
  },
  {
   "cell_type": "code",
   "execution_count": 17,
   "id": "a84201d0-f5b8-419c-9be0-83a58e0792e4",
   "metadata": {},
   "outputs": [
    {
     "name": "stdout",
     "output_type": "stream",
     "text": [
      "['1', '2']\n",
      "['3', '8']\n",
      "['1', '2', '3', '4', '5']\n",
      "['7']\n"
     ]
    },
    {
     "data": {
      "text/plain": [
       "355"
      ]
     },
     "execution_count": 17,
     "metadata": {},
     "output_type": "execute_result"
    }
   ],
   "source": [
    "def get_numbers(line, search_items):\n",
    "    \n",
    "    result = re.findall(rf'(?=({\"|\".join(str(n) for n in search_items)}))', line) \n",
    "    return result\n",
    "\n",
    "total = 0\n",
    "\n",
    "for line in data:\n",
    "    numbers = get_numbers(line, list(map_numbers.values()))\n",
    "    print(numbers)\n",
    "    total += total + (int(numbers[0]) * 10) + int(numbers[-1])\n",
    "\n",
    "\n",
    "total"
   ]
  },
  {
   "cell_type": "code",
   "execution_count": 4,
   "id": "8cc749ae-2a89-4e19-a963-7775ef5c54c1",
   "metadata": {},
   "outputs": [
    {
     "name": "stdout",
     "output_type": "stream",
     "text": [
      "55447\n"
     ]
    }
   ],
   "source": [
    "numbers = []\n",
    "for line in input.split('\\n'):\n",
    "    numbers.append(([int(i) for i in line if re.match(r'\\d', i)]))\n",
    "\n",
    "total = 0\n",
    "\n",
    "for i in numbers:\n",
    "    total += int(f\"{i[0]}{i[-1]}\")\n",
    "\n",
    "print(total)\n",
    "        \n",
    "        "
   ]
  },
  {
   "cell_type": "code",
   "execution_count": 3,
   "id": "169ae0a5-030b-40c5-9e36-76f6646426b3",
   "metadata": {},
   "outputs": [],
   "source": [
    "test = \"\"\"two1nine\n",
    "eightwothree\n",
    "abcone2threexyz\n",
    "xtwone3four\n",
    "4nineeightseven2\n",
    "zoneight234\n",
    "7pqrstsixteen\"\"\"\n"
   ]
  },
  {
   "cell_type": "code",
   "execution_count": 5,
   "id": "f99dd3ca-4697-4f74-bbce-f6ee47322aa3",
   "metadata": {},
   "outputs": [
    {
     "name": "stdout",
     "output_type": "stream",
     "text": [
      "two1nine\n",
      "eightwothree\n",
      "abcone2threexyz\n",
      "xtwone3four\n",
      "4nineeightseven2\n",
      "zoneight234\n",
      "7pqrstsixteen\n"
     ]
    }
   ],
   "source": [
    "map_nums = {\n",
    "    'zero': 0,\n",
    "    'one': 1,\n",
    "    'two': 2,\n",
    "    'three': 3,\n",
    "    'four': 4,\n",
    "    'five': 5,\n",
    "    'six': 6,\n",
    "    'seven': 7,\n",
    "    'eight': 8,\n",
    "    'nine': 9\n",
    "}\n",
    "\n",
    "print(test)"
   ]
  },
  {
   "cell_type": "code",
   "execution_count": 11,
   "id": "208d0d8a-68e7-4e49-b688-97519284cd51",
   "metadata": {},
   "outputs": [
    {
     "ename": "AttributeError",
     "evalue": "'function' object has no attribute 'split'",
     "output_type": "error",
     "traceback": [
      "\u001b[0;31m---------------------------------------------------------------------------\u001b[0m",
      "\u001b[0;31mAttributeError\u001b[0m                            Traceback (most recent call last)",
      "Input \u001b[0;32mIn [11]\u001b[0m, in \u001b[0;36m<cell line: 3>\u001b[0;34m()\u001b[0m\n\u001b[1;32m      1\u001b[0m numbers \u001b[38;5;241m=\u001b[39m []\n\u001b[0;32m----> 3\u001b[0m \u001b[38;5;28;01mfor\u001b[39;00m line \u001b[38;5;129;01min\u001b[39;00m \u001b[38;5;28;43minput\u001b[39;49m\u001b[38;5;241;43m.\u001b[39;49m\u001b[43msplit\u001b[49m(\u001b[38;5;124m'\u001b[39m\u001b[38;5;130;01m\\n\u001b[39;00m\u001b[38;5;124m'\u001b[39m):\n\u001b[1;32m      4\u001b[0m     \u001b[38;5;66;03m# print(line)\u001b[39;00m\n\u001b[1;32m      5\u001b[0m     in_line \u001b[38;5;241m=\u001b[39m \u001b[38;5;28;01mTrue\u001b[39;00m\n\u001b[1;32m      6\u001b[0m     i \u001b[38;5;241m=\u001b[39m \u001b[38;5;241m0\u001b[39m\n",
      "\u001b[0;31mAttributeError\u001b[0m: 'function' object has no attribute 'split'"
     ]
    }
   ],
   "source": [
    "numbers = []\n",
    "\n",
    "for line in input.split('\\n'):\n",
    "    # print(line)\n",
    "    in_line = True\n",
    "    i = 0\n",
    "    \n",
    "    while(in_line):\n",
    "        j = 3\n",
    "        while j <= 5:\n",
    "            subseg = line[i:i+j]\n",
    "            # print(subseg)\n",
    "            j+= 1\n",
    "            for k in map_nums:\n",
    "                if k in subseg:\n",
    "                    # print(f\"{k} => {line}\")\n",
    "                    line = line.replace(k, str(map_nums[k]))\n",
    "\n",
    "        i+=1\n",
    "        if i == len(line):\n",
    "            # print(f'New line: {line}')\n",
    "            in_line = False\n",
    "\n",
    "    numbers.append(([int(i) for i in line if re.match(r'\\d', i)]))\n",
    "\n",
    "\n",
    "\n",
    "total = 0\n",
    "\n",
    "for i in numbers:\n",
    "    total += int(f\"{i[0]}{i[-1]}\")\n",
    "\n",
    "print(total)"
   ]
  },
  {
   "cell_type": "code",
   "execution_count": 57,
   "id": "7ecee560-d1ee-4707-b05e-fa36caaf7287",
   "metadata": {},
   "outputs": [
    {
     "name": "stdout",
     "output_type": "stream",
     "text": [
      "54706\n"
     ]
    }
   ],
   "source": [
    "numbers = []\n",
    "\n",
    "### Try without replace\n",
    "for line in input.split('\\n'):\n",
    "    line_digits = []\n",
    "    # print(line)\n",
    "    for i in range(0, len(line)):\n",
    "        if m:= re.match(r'\\d', line[i]):\n",
    "            line_digits.append(int(line[i]))\n",
    "        else:\n",
    "            for j in map_nums:\n",
    "                if m:= re.match(rf'^{j}', line[i:]):\n",
    "                    line_digits.append(int(map_nums[j]))\n",
    "    numbers.append(line_digits)\n",
    "\n",
    "total = 0\n",
    "\n",
    "for i in numbers:\n",
    "    total += int(f\"{i[0]}{i[-1]}\")\n",
    "\n",
    "print(total)"
   ]
  }
 ],
 "metadata": {
  "kernelspec": {
   "display_name": "Python 3 (ipykernel)",
   "language": "python",
   "name": "python3"
  },
  "language_info": {
   "codemirror_mode": {
    "name": "ipython",
    "version": 3
   },
   "file_extension": ".py",
   "mimetype": "text/x-python",
   "name": "python",
   "nbconvert_exporter": "python",
   "pygments_lexer": "ipython3",
   "version": "3.10.5"
  }
 },
 "nbformat": 4,
 "nbformat_minor": 5
}
