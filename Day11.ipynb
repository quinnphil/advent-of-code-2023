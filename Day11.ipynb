{
 "cells": [
  {
   "cell_type": "markdown",
   "id": "106deaa1-8c62-402a-8b5a-2e5f65c5532a",
   "metadata": {},
   "source": [
    "# Advent of Code 2023\n",
    "## Day 11: Cosmic Expansion\n",
    "\n",
    "### Puzzle\n",
    "https://adventofcode.com/2023/day/11\n",
    "\n",
    "### Answers \n",
    "P1: 9795148  \n",
    "P2: 650672493820\n"
   ]
  },
  {
   "cell_type": "code",
   "execution_count": 1,
   "id": "230f07f3-4ac9-4f02-a6aa-5a9fe24116ba",
   "metadata": {},
   "outputs": [],
   "source": [
    "from itertools import pairwise, combinations"
   ]
  },
  {
   "cell_type": "code",
   "execution_count": 35,
   "id": "6979b89e-84de-454f-8f0b-f7b20ce5676b",
   "metadata": {},
   "outputs": [
    {
     "name": "stdout",
     "output_type": "stream",
     "text": [
      "P1: 9795148\n",
      "P2: 650672493820\n"
     ]
    }
   ],
   "source": [
    "with open('data/day_11.txt') as fh:\n",
    "    data = fh.read()\n",
    "galaxies = []\n",
    "\n",
    "for j, line in enumerate(data.split('\\n')):\n",
    "    for i, c in enumerate(line):\n",
    "        if c == '#':\n",
    "            galaxies.append((i, j))\n",
    "\n",
    "\n",
    "for part, empty_unit in enumerate([2, 1000000], 1):\n",
    "\n",
    "    total = sum(\n",
    "        map(sum, [t[i:j] for t in [\n",
    "            [(b-a) + ((b-a-1) * (empty_unit - 1) * ((b-a)>1)) for a, b in pairwise(sorted([p[g] for p in galaxies]))] for g in [0,1]\n",
    "        ] for i,j in combinations(range(len(galaxies)),2)])\n",
    "    )\n",
    "    \n",
    "    print(f\"P{part}: {total}\")\n"
   ]
  }
 ],
 "metadata": {
  "kernelspec": {
   "display_name": "Python 3 (ipykernel)",
   "language": "python",
   "name": "python3"
  },
  "language_info": {
   "codemirror_mode": {
    "name": "ipython",
    "version": 3
   },
   "file_extension": ".py",
   "mimetype": "text/x-python",
   "name": "python",
   "nbconvert_exporter": "python",
   "pygments_lexer": "ipython3",
   "version": "3.10.5"
  }
 },
 "nbformat": 4,
 "nbformat_minor": 5
}
