{
 "cells": [
  {
   "cell_type": "markdown",
   "id": "106deaa1-8c62-402a-8b5a-2e5f65c5532a",
   "metadata": {},
   "source": [
    "# Advent of Code 2023\n",
    "## Day 06: Template\n",
    "\n",
    "### Puzzle\n",
    "https://adventofcode.com/2023/day/6\n",
    "\n",
    "### Answers\n",
    "T1:  \n",
    "T2:  \n",
    "\n",
    "P1:  \n",
    "P2:  \n"
   ]
  },
  {
   "cell_type": "code",
   "execution_count": 1,
   "id": "6fa6ddf5-6725-409a-91d1-555f9a69b408",
   "metadata": {},
   "outputs": [],
   "source": [
    "import re"
   ]
  },
  {
   "cell_type": "code",
   "execution_count": 2,
   "id": "7e872306-9d37-4610-be2f-e3147b122142",
   "metadata": {},
   "outputs": [],
   "source": [
    "test=\"\"\"Time:      7  15   30\n",
    "Distance:  9  40  200\n",
    "\"\"\""
   ]
  },
  {
   "cell_type": "code",
   "execution_count": 3,
   "id": "5785d932-1695-4696-a9ee-da1b62772821",
   "metadata": {},
   "outputs": [],
   "source": [
    "puzzle = \"\"\"Time:        46     85     75     82\n",
    "Distance:   208   1412   1257   1410\"\"\""
   ]
  },
  {
   "cell_type": "code",
   "execution_count": 4,
   "id": "08946519-e220-43bd-95e7-a46935efcfc3",
   "metadata": {},
   "outputs": [
    {
     "name": "stdout",
     "output_type": "stream",
     "text": [
      "[(46, 208), (85, 1412), (75, 1257), (82, 1410)]\n"
     ]
    }
   ],
   "source": [
    "def get_data(lines):\n",
    "    times = list(map(int, re.findall(\"(\\d+)\\s*\", lines[0])))\n",
    "    distance = list(map(int, re.findall(\"(\\d+)\\s*\", lines[1])))\n",
    "    return list(zip(times, distance))\n",
    "\n",
    "\n",
    "# data = get_data(test.split('\\n'))\n",
    "data = get_data(puzzle.split('\\n'))\n",
    "print(data)"
   ]
  },
  {
   "cell_type": "code",
   "execution_count": 5,
   "id": "3ef8e4d0-a4ac-423e-ac59-39c816fda13d",
   "metadata": {},
   "outputs": [
    {
     "data": {
      "text/plain": [
       "1108800"
      ]
     },
     "execution_count": 5,
     "metadata": {},
     "output_type": "execute_result"
    }
   ],
   "source": [
    "speed_start = 0\n",
    "\n",
    "# Don't hold - travel = 0 distance\n",
    "# Hold 1 - travel then 1mm/ms for next 6ms == 6mm\n",
    "distance_to_beat = 9\n",
    "time_available = 7\n",
    "def ways_to_win(time_available, distance_to_beat):\n",
    "    winning = []\n",
    "    for time_held in range(1, time_available):\n",
    "        time_remaining = time_available - time_held\n",
    "        speed = time_held\n",
    "        distance = time_remaining * speed\n",
    "        if is_win := distance > distance_to_beat:\n",
    "            # print(f\"{time_held} -> {distance} / {distance_to_beat} (win)\")\n",
    "            winning.append((speed, distance))\n",
    "        \n",
    "    return winning\n",
    "\n",
    "ways = []\n",
    "for race in data:\n",
    "    ways.append(ways_to_win(race[0], race[1]))\n",
    "\n",
    "from math import prod\n",
    "def calculate_ways_to_beat_record(ways):\n",
    "    return prod([len(way) for way in ways])\n",
    "\n",
    "calculate_ways_to_beat_record(ways)"
   ]
  },
  {
   "cell_type": "markdown",
   "id": "1f6f546b-6806-44c7-81b4-01569a127f9f",
   "metadata": {},
   "source": [
    "### Part 2"
   ]
  },
  {
   "cell_type": "code",
   "execution_count": 6,
   "id": "102a9c2d-ce12-4979-9d86-883691be99fd",
   "metadata": {},
   "outputs": [
    {
     "name": "stdout",
     "output_type": "stream",
     "text": [
      "Time available: 46857582\n",
      "Distance to beat: 208141212571410\n"
     ]
    }
   ],
   "source": [
    "time_available = int(\"\".join([str(i[0]) for i in data]))\n",
    "distance_to_beat = int(\"\".join([str(i[1]) for i in data]))\n",
    "\n",
    "print(f\"Time available: {time_available}\")\n",
    "print(f\"Distance to beat: {distance_to_beat}\")"
   ]
  },
  {
   "cell_type": "code",
   "execution_count": null,
   "id": "e73b056e-7ab2-410b-8bca-24e8b9411a53",
   "metadata": {},
   "outputs": [],
   "source": []
  },
  {
   "cell_type": "code",
   "execution_count": 7,
   "id": "3745971c-d007-4fd0-b372-a3e719179094",
   "metadata": {},
   "outputs": [
    {
     "name": "stdout",
     "output_type": "stream",
     "text": [
      "4968915\n",
      "41888667\n",
      "36919753\n"
     ]
    }
   ],
   "source": [
    "def is_winning(time_held, time_available, distance_to_beat):\n",
    "    time_remaining = time_available - time_held\n",
    "    speed = time_held\n",
    "    distance = time_remaining * speed\n",
    "    return (distance > distance_to_beat) and (time_held < time_available)\n",
    "\n",
    "def guess_min(guess, time_available, distance_to_beat, direction):\n",
    "    boundary_check = sum([is_winning(guess + t, time_available, distance_to_beat) for t in range(-1, 2)])\n",
    "    a = 0\n",
    "    b = 0\n",
    "    \n",
    "    while(not(boundary_check == 2)):\n",
    "        if boundary_check < 2:\n",
    "            a = guess\n",
    "        elif boundary_check == 3:\n",
    "            b = guess\n",
    "        \n",
    "        guess = (a+b)//2\n",
    "        boundary_check = sum([is_winning(guess + t, time_available, distance_to_beat) for t in range(-1, 2)])\n",
    "\n",
    "    return guess\n",
    "\n",
    "\n",
    "\n",
    "\n",
    "# Meh!  this is a total hack.  Needs improvement!\n",
    "# Will rework when I have time\n",
    "time_min = guess_min(time_available//2, time_available, distance_to_beat, -1)\n",
    "time_max = guess_min(time_available, time_available, distance_to_beat, -1)\n",
    "\n",
    "print(time_min)\n",
    "print(time_max)\n",
    "\n",
    "print(time_max - time_min + 1)"
   ]
  },
  {
   "cell_type": "code",
   "execution_count": 23,
   "id": "30a2ddf8-1daf-49d4-b31a-8c34e062ce49",
   "metadata": {},
   "outputs": [],
   "source": [
    "import pandas as pd\n",
    "\n",
    "results = []\n",
    "for i in list(range(0, time_available, 10**5)) + [time_min, time_max]:\n",
    "    time_remaining = time_available - i\n",
    "    speed = i\n",
    "    distance = time_remaining * speed\n",
    "    results.append({\"time\": i, \"distance\": distance, \"is_winning\": distance > distance_to_beat})\n",
    "\n",
    "results\n",
    "\n",
    "df = (\n",
    "    pd.DataFrame.from_dict(results)\n",
    "    \n",
    ")\n",
    "\n",
    "    \n"
   ]
  },
  {
   "cell_type": "code",
   "execution_count": 57,
   "id": "67caaa0e-dbb7-4e5a-902a-eaabff2eb4b2",
   "metadata": {},
   "outputs": [
    {
     "data": {
      "image/png": "[encoded data removed]",
      "text/plain": [
       "<Figure size 720x360 with 1 Axes>"
      ]
     },
     "metadata": {
      "needs_background": "light"
     },
     "output_type": "display_data"
    }
   ],
   "source": [
    "from matplotlib import pyplot as plt\n",
    "\n",
    "fix, ax = plt.subplots(figsize=(10,5))\n",
    "\n",
    "df[df['is_winning']].sort_values('time').plot(x='time', y='distance', ax=ax, color='g')\n",
    "df[~(df['is_winning']) & (df['time'] < time_min) ].sort_values('time').plot(x='time', y='distance', ax=ax, color='r')\n",
    "df[~(df['is_winning']) & (df['time'] > time_max) ].sort_values('time').plot(x='time', y='distance', ax=ax, color='r')\n",
    "\n",
    "ax.hlines(y=distance_to_beat, xmin=0, xmax=time_available, linewidth=2, color='k')\n",
    "ax.annotate(\"distance to beat\", ((time_available // 2), distance_to_beat))\n",
    "ax.set_ylabel = 'distance'\n",
    "ax.get_legend().remove()"
   ]
  },
  {
   "cell_type": "code",
   "execution_count": null,
   "id": "2186db87-6207-49cd-9aa4-3e67305b588d",
   "metadata": {},
   "outputs": [],
   "source": []
  },
  {
   "cell_type": "code",
   "execution_count": null,
   "id": "e7e50c1a-77f3-49fc-a3ac-6022a69d0681",
   "metadata": {},
   "outputs": [],
   "source": []
  },
  {
   "cell_type": "code",
   "execution_count": null,
   "id": "6ff9727c-244c-4444-909d-3f2fb94b6dc9",
   "metadata": {},
   "outputs": [],
   "source": []
  }
 ],
 "metadata": {
  "kernelspec": {
   "display_name": "Python 3 (ipykernel)",
   "language": "python",
   "name": "python3"
  },
  "language_info": {
   "codemirror_mode": {
    "name": "ipython",
    "version": 3
   },
   "file_extension": ".py",
   "mimetype": "text/x-python",
   "name": "python",
   "nbconvert_exporter": "python",
   "pygments_lexer": "ipython3",
   "version": "3.10.5"
  }
 },
 "nbformat": 4,
 "nbformat_minor": 5
}
