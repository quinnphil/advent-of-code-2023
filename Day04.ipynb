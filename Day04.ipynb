{
 "cells": [
  {
   "cell_type": "markdown",
   "id": "106deaa1-8c62-402a-8b5a-2e5f65c5532a",
   "metadata": {},
   "source": [
    "# Advent of Code 2023\n",
    "## Day 4: Scratchcards\n",
    "\n",
    "### Puzzle\n",
    "https://adventofcode.com/2023/day/4\n",
    "\n",
    "### Answers  \n",
    "32001  \n",
    "5037841\n",
    "\n",
    "### Solutions  \n"
   ]
  },
  {
   "cell_type": "code",
   "execution_count": 78,
   "id": "6c8ed85a-78b5-4964-86e9-118d60491312",
   "metadata": {},
   "outputs": [],
   "source": [
    "import re"
   ]
  },
  {
   "cell_type": "code",
   "execution_count": 115,
   "id": "7e872306-9d37-4610-be2f-e3147b122142",
   "metadata": {},
   "outputs": [],
   "source": [
    "test = \"\"\"Card 1: 41 48 83 86 17 | 83 86  6 31 17  9 48 53\n",
    "Card 2: 13 32 20 16 61 | 61 30 68 82 17 32 24 19\n",
    "Card 3:  1 21 53 59 44 | 69 82 63 72 16 21 14  1\n",
    "Card 4: 41 92 73 84 69 | 59 84 76 51 58  5 54 83\n",
    "Card 5: 87 83 26 28 32 | 88 30 70 12 93 22 82 36\n",
    "Card 6: 31 18 13 56 72 | 74 77 10 23 35 67 36 11\"\"\"\n",
    "\n",
    "with open('data/day_04.txt') as fh:\n",
    "    data = fh.read().strip()\n"
   ]
  },
  {
   "cell_type": "code",
   "execution_count": 142,
   "id": "e4100b63-eca4-4bc3-b740-b5692db00e0b",
   "metadata": {},
   "outputs": [],
   "source": [
    "def get_cards(lines):\n",
    "    cards = []\n",
    "    for line in lines.split('\\n'):\n",
    "        for g in [line.split(\":\")[1].split('|')]:\n",
    "            win = [int(w) for w in re.split(r'\\s+', g[0].strip())]\n",
    "            play = [int(p) for p in re.split(r'\\s+', g[1].strip())]\n",
    "            cards.append([win, play])\n",
    "    \n",
    "    return cards\n",
    "\n",
    "# cards = get_cards(test)\n",
    "cards = get_cards(data)"
   ]
  },
  {
   "cell_type": "code",
   "execution_count": 137,
   "id": "8b6b9bd9-46d9-4eef-8365-db0f684bdc7e",
   "metadata": {},
   "outputs": [
    {
     "data": {
      "text/plain": [
       "32001"
      ]
     },
     "execution_count": 137,
     "metadata": {},
     "output_type": "execute_result"
    }
   ],
   "source": [
    "def get_score(cards):\n",
    "    total = 0\n",
    "    for game in cards:\n",
    "        \n",
    "        winning = set(game[0]).intersection(set(game[1]))\n",
    "        if len(winning) > 0:\n",
    "            total += 2 ** (len(winning) - 1)\n",
    "    return total\n",
    "\n",
    "\n",
    "get_score(cards)"
   ]
  },
  {
   "cell_type": "code",
   "execution_count": 148,
   "id": "5f02d65e-91d3-46df-bedc-d6d120f896cc",
   "metadata": {},
   "outputs": [
    {
     "data": {
      "text/plain": [
       "5037841"
      ]
     },
     "execution_count": 148,
     "metadata": {},
     "output_type": "execute_result"
    }
   ],
   "source": [
    "def get_score_2(cards):\n",
    "    times_to_process = [1] * len(cards)\n",
    "    \n",
    "    for i, game in enumerate(cards):\n",
    "        winning = len(set(game[0]).intersection(set(game[1])))\n",
    "        \n",
    "\n",
    "        if winning > 0:\n",
    "            for j in range(1, winning + 1):\n",
    "                times_to_process[i + j] += times_to_process[i]\n",
    "\n",
    "    return sum(times_to_process)\n",
    "\n",
    "get_score_2(cards)"
   ]
  }
 ],
 "metadata": {
  "kernelspec": {
   "display_name": "Python 3 (ipykernel)",
   "language": "python",
   "name": "python3"
  },
  "language_info": {
   "codemirror_mode": {
    "name": "ipython",
    "version": 3
   },
   "file_extension": ".py",
   "mimetype": "text/x-python",
   "name": "python",
   "nbconvert_exporter": "python",
   "pygments_lexer": "ipython3",
   "version": "3.10.5"
  }
 },
 "nbformat": 4,
 "nbformat_minor": 5
}
