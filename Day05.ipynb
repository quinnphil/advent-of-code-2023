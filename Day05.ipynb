{
 "cells": [
  {
   "cell_type": "markdown",
   "id": "106deaa1-8c62-402a-8b5a-2e5f65c5532a",
   "metadata": {},
   "source": [
    "# Advent of Code 2023\n",
    "## Day 5: If You Give A Seed A Fertilizer\n",
    "\n",
    "### Puzzle\n",
    "https://adventofcode.com/2023/day/5\n",
    "\n",
    "### Answers\n",
    "T1: 35\n",
    "T2: 46\n",
    "\n",
    "P1: 484023871  \n",
    "P2: 46294175  \n",
    "\n"
   ]
  },
  {
   "cell_type": "code",
   "execution_count": 1,
   "id": "1baab233-4b01-4a82-ab1d-7d457811c1e3",
   "metadata": {},
   "outputs": [],
   "source": [
    "import copy"
   ]
  },
  {
   "cell_type": "code",
   "execution_count": 2,
   "id": "7e872306-9d37-4610-be2f-e3147b122142",
   "metadata": {},
   "outputs": [],
   "source": [
    "test = \"\"\"seeds: 79 14 55 13\n",
    "\n",
    "seed-to-soil map:\n",
    "50 98 2\n",
    "52 50 48\n",
    "\n",
    "soil-to-fertilizer map:\n",
    "0 15 37\n",
    "37 52 2\n",
    "39 0 15\n",
    "\n",
    "fertilizer-to-water map:\n",
    "49 53 8\n",
    "0 11 42\n",
    "42 0 7\n",
    "57 7 4\n",
    "\n",
    "water-to-light map:\n",
    "88 18 7\n",
    "18 25 70\n",
    "\n",
    "light-to-temperature map:\n",
    "45 77 23\n",
    "81 45 19\n",
    "68 64 13\n",
    "\n",
    "temperature-to-humidity map:\n",
    "0 69 1\n",
    "1 0 69\n",
    "\n",
    "humidity-to-location map:\n",
    "60 56 37\n",
    "56 93 4\"\"\""
   ]
  },
  {
   "cell_type": "code",
   "execution_count": 3,
   "id": "01ecab58-bcad-4ce1-8be7-9d12099891aa",
   "metadata": {},
   "outputs": [],
   "source": [
    "with open('data/day_05.txt') as fh:\n",
    "    data = fh.read()"
   ]
  },
  {
   "cell_type": "code",
   "execution_count": 4,
   "id": "619c2e0a-23c8-4a20-a91e-1587ce1ee11f",
   "metadata": {},
   "outputs": [],
   "source": [
    "def get_data(raw):\n",
    "    blocks = raw.strip().split('\\n\\n')\n",
    "    seeds = [int(s) for s in blocks[0][6:].strip().split()]\n",
    "    maps = ([[list(map(int, i)) for i in list(map(str.split, s))] for s in list(block.split('\\n')[1:] for block in blocks[1:])])\n",
    "    return seeds, maps\n",
    "\n",
    "seeds, maps = get_data(data)"
   ]
  },
  {
   "cell_type": "markdown",
   "id": "6d1b7219-2afd-40ac-964a-c6f6217cc8c2",
   "metadata": {},
   "source": [
    "### Part 1 (reworked) & Part 2  \n",
    "\n",
    "Generalised solving function after completing part 2."
   ]
  },
  {
   "cell_type": "code",
   "execution_count": 5,
   "id": "5dcdfca4-7f82-421b-a759-3f9c7350b840",
   "metadata": {},
   "outputs": [
    {
     "name": "stdout",
     "output_type": "stream",
     "text": [
      "20\n",
      "7\n"
     ]
    }
   ],
   "source": [
    "print(len(seeds))\n",
    "print(len(maps))"
   ]
  },
  {
   "cell_type": "code",
   "execution_count": 6,
   "id": "6920807e-08eb-4c0a-8be9-5ca0efa3441d",
   "metadata": {},
   "outputs": [],
   "source": [
    "def solve(maps, n_min, range, i, paths, path):\n",
    "    \n",
    "\n",
    "    # Setup\n",
    "    n_max = n_min + range - 1\n",
    "    path.append((n_min, range, i))    \n",
    "    is_map_found = False\n",
    "\n",
    "    if i < len(maps):\n",
    "        for m in maps[i]:        \n",
    "            m_min = m[1]\n",
    "            m_max = m[1] + m[2] - 1\n",
    "    \n",
    "            d_min = m[0]\n",
    "\n",
    "            # Start value is in range\n",
    "            if n_min >= m_min and n_min <= m_max:\n",
    "                # End value is in range\n",
    "                if n_max <= m_max:\n",
    "                    n_offset = n_min - m[1]\n",
    "                    n_new = d_min + n_offset\n",
    "                    is_map_found = True                    \n",
    "                    solve(maps, n_new, range, i + 1, paths, copy.copy(path))\n",
    "                # End not in range - but start is\n",
    "                else:\n",
    "                    range_new = m_max - n_min + 1\n",
    "                    is_map_found = True\n",
    "                    # Split ranges and solve individually\n",
    "                    solve(maps, n_min, range_new, i, paths, path)\n",
    "                    solve(maps, n_min + range_new, range - range_new, i, paths, copy.copy(path))\n",
    "            # Max value is in range\n",
    "            elif n_max >= m_min and n_max <= m_max:\n",
    "                range_new = m_min - n_min\n",
    "                is_map_found = True\n",
    "                # Split ranges at max and solve individualls\n",
    "                solve(maps, n_min, range_new, i, paths, path)\n",
    "                solve(maps, m_min, (range - range_new + 1), i, paths, copy.copy(path))\n",
    "\n",
    "        # Pass value downstream if map not found\n",
    "        if not is_map_found:\n",
    "            solve(maps, n_min, range, i + 1, paths, copy.copy(path))\n",
    "                \n",
    "    else:\n",
    "        # Solved\n",
    "        paths.append(path)\n",
    "\n",
    "    # Default: return if maps exhausted\n",
    "    return paths\n",
    "\n"
   ]
  },
  {
   "cell_type": "code",
   "execution_count": 7,
   "id": "aa00ee2f-9b7d-4888-b1a0-d893d717e904",
   "metadata": {},
   "outputs": [
    {
     "name": "stdout",
     "output_type": "stream",
     "text": [
      "Part 1: 484023871\n",
      "Part 2: 46294175\n"
     ]
    }
   ],
   "source": [
    "def get_location(results):        \n",
    "    return min([path[-1][0] for paths in results for path in paths])\n",
    "        \n",
    "\n",
    "# Part 1\n",
    "results = []\n",
    "for seed in seeds:\n",
    "    results.append(solve(maps, seed, 1, 0, [], []))\n",
    "\n",
    "location = get_location(results)\n",
    "print(f\"Part 1: {location}\")\n",
    "\n",
    "# Part 2\n",
    "results = []\n",
    "for i in range(0, len(seeds), 2):\n",
    "    results.append(solve(maps, seeds[i], seeds[i+1], 0, [], []))\n",
    "\n",
    "location = get_location(results)\n",
    "print(f\"Part 2: {location}\")\n",
    "    "
   ]
  },
  {
   "cell_type": "code",
   "execution_count": null,
   "id": "c96da0a3-66e4-4f7b-9b69-9ee7743f8825",
   "metadata": {},
   "outputs": [],
   "source": []
  }
 ],
 "metadata": {
  "kernelspec": {
   "display_name": "Python 3 (ipykernel)",
   "language": "python",
   "name": "python3"
  },
  "language_info": {
   "codemirror_mode": {
    "name": "ipython",
    "version": 3
   },
   "file_extension": ".py",
   "mimetype": "text/x-python",
   "name": "python",
   "nbconvert_exporter": "python",
   "pygments_lexer": "ipython3",
   "version": "3.10.5"
  }
 },
 "nbformat": 4,
 "nbformat_minor": 5
}
