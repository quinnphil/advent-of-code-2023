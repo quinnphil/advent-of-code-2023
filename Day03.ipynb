{
 "cells": [
  {
   "cell_type": "markdown",
   "id": "106deaa1-8c62-402a-8b5a-2e5f65c5532a",
   "metadata": {},
   "source": [
    "# Advent of Code 2023\n",
    "## Day 3: Gear Ratios\n",
    "\n",
    "### Puzzle\n",
    "https://adventofcode.com/2023/day/3\n",
    "\n"
   ]
  },
  {
   "cell_type": "code",
   "execution_count": 1,
   "id": "99ff7938-66f0-46bb-8639-a872965d1060",
   "metadata": {},
   "outputs": [],
   "source": [
    "import re"
   ]
  },
  {
   "cell_type": "code",
   "execution_count": 2,
   "id": "7e872306-9d37-4610-be2f-e3147b122142",
   "metadata": {},
   "outputs": [],
   "source": [
    "test=\"\"\"467..114..\n",
    "...*......\n",
    "..35..633.\n",
    "......#...\n",
    "617*......\n",
    ".....+.58.\n",
    "..592.....\n",
    "......755.\n",
    "...$.*....\n",
    ".664.598..\"\"\""
   ]
  },
  {
   "cell_type": "code",
   "execution_count": 3,
   "id": "a196999a-6c0e-4263-8feb-5edf3d7f2dab",
   "metadata": {},
   "outputs": [],
   "source": [
    "with open('data/day_03.txt') as fh:\n",
    "    data = fh.read()\n",
    "\n",
    "# data = test"
   ]
  },
  {
   "cell_type": "code",
   "execution_count": 4,
   "id": "536a0333-463f-441f-b51f-f60b409c6cce",
   "metadata": {},
   "outputs": [
    {
     "name": "stdout",
     "output_type": "stream",
     "text": [
      "2029\n",
      "[(0, 2), (0, 35), (0, 40), (0, 49), (0, 62), (0, 71), (0, 75), (0, 96), (0, 113), (0, 129)]\n"
     ]
    }
   ],
   "source": [
    "def get_grid(data):\n",
    "    grid = {}\n",
    "\n",
    "    rows = data.split('\\n')\n",
    "    for i, row in enumerate(rows):\n",
    "        matches = re.finditer('(\\d+|[^.])', row)\n",
    "\n",
    "        for m in matches:\n",
    "            grid[i, m.span()[0]] = m.groups(0)[0]\n",
    "\n",
    "    return grid\n",
    "    \n",
    "\n",
    "\n",
    "grid = get_grid(data)\n",
    "\n",
    "print(len(grid))\n",
    "# Head\n",
    "print(list(grid)[0:10])\n",
    "\n"
   ]
  },
  {
   "cell_type": "code",
   "execution_count": 5,
   "id": "c3888447-f1a8-408f-97fe-754e5c5e35fb",
   "metadata": {},
   "outputs": [
    {
     "data": {
      "text/plain": [
       "557705"
      ]
     },
     "execution_count": 5,
     "metadata": {},
     "output_type": "execute_result"
    }
   ],
   "source": [
    "def get_part_numbers(grid):\n",
    "    parts = []\n",
    "    for location in grid:\n",
    "        \n",
    "        if grid[location].isdecimal():\n",
    "            \n",
    "            \n",
    "            is_part = False\n",
    "            # check above\n",
    "            for i in range(location[0]-1, location[0]+2):\n",
    "                for j in range(location[1] - 1, location[1] + len(grid[location]) + 1):\n",
    "                    \n",
    "                    k = grid.get((i, j), None)\n",
    "                    if k and not k.isdecimal():\n",
    "                        \n",
    "                        is_part = True\n",
    "\n",
    "            if is_part:\n",
    "                parts.append(grid[location])\n",
    "                \n",
    "        \n",
    "        else:\n",
    "            # Symbol\n",
    "            pass\n",
    "\n",
    "    return parts\n",
    "\n",
    "part_numbers = get_part_numbers(grid)\n",
    "\n",
    "sum(int(p) for p in part_numbers)"
   ]
  },
  {
   "cell_type": "code",
   "execution_count": 7,
   "id": "146d3c70-28af-4ccd-be67-a18698dc4c7f",
   "metadata": {},
   "outputs": [
    {
     "data": {
      "text/plain": [
       "84266818"
      ]
     },
     "execution_count": 7,
     "metadata": {},
     "output_type": "execute_result"
    }
   ],
   "source": [
    "# Part 2\n",
    "\n",
    "def get_real_gears(grid):\n",
    "    gears = []\n",
    "    for location in grid:\n",
    "        if grid[location] == \"*\":\n",
    "            gears.append(location)\n",
    "\n",
    "    return gears\n",
    "\n",
    "def get_gear_parts(gears, grid):\n",
    "    \n",
    "    parts = {p:set() for p in gears}\n",
    "    \n",
    "    for location in grid:\n",
    "        \n",
    "        if grid[location].isdecimal():\n",
    "            \n",
    "            # check above\n",
    "            for i in range(location[0]-1, location[0]+2):\n",
    "                for j in range(location[1] - 1, location[1] + len(grid[location]) + 1):\n",
    "                    \n",
    "                    k = grid.get((i, j), None)\n",
    "                    if k and (i, j) in gears:\n",
    "                        \n",
    "                        parts[(i, j)].add(location)\n",
    "                \n",
    "        \n",
    "        else:\n",
    "            # Symbol\n",
    "            pass\n",
    "\n",
    "    return parts\n",
    "\n",
    "\n",
    "gears = get_real_gears(grid)\n",
    "parts = get_gear_parts(gears, grid)\n",
    "\n",
    "from math import prod\n",
    "total = 0\n",
    "for p in parts:\n",
    "    if len(parts[p]) == 2:\n",
    "        total += prod([int(grid[g]) for g in parts[p]])\n",
    "\n",
    "total"
   ]
  }
 ],
 "metadata": {
  "kernelspec": {
   "display_name": "Python 3 (ipykernel)",
   "language": "python",
   "name": "python3"
  },
  "language_info": {
   "codemirror_mode": {
    "name": "ipython",
    "version": 3
   },
   "file_extension": ".py",
   "mimetype": "text/x-python",
   "name": "python",
   "nbconvert_exporter": "python",
   "pygments_lexer": "ipython3",
   "version": "3.10.5"
  }
 },
 "nbformat": 4,
 "nbformat_minor": 5
}
